{
 "cells": [
  {
   "cell_type": "markdown",
   "metadata": {},
   "source": [
    "$$\n",
    "\\newcommand{\\KK}{\\mathbb{K}}\n",
    "\\newcommand{\\NN}{\\mathbb{N}}\n",
    "\\newcommand{\\ZZ}{\\mathbb{Z}}\n",
    "\\newcommand{\\cF}{\\mathcal{F}}\n",
    "\\DeclareMathOperator{\\rk}{Rank}\n",
    "$$\n",
    "\n",
    "In a joint work *Module structure of the homology of right-angled Artin kernels*, with J.I. Cogolludo, S. López de Medrano, and D. Matei, we provide formulas for the objects cited in the title. This paper can be found in [<kbd>arXiv:2002.00279</kbd>](https://arxiv.org/abs/2002.00279).\n",
    "\n",
    "In this `Jupyter notebook` we provide functions that can help to use these formulas. We start from a graph $\\Gamma$. Next cell is an example of a graph which will serve to illustrate the computations. The reader can apply the functions to other graphs as needed. The next cell contains some `python` orders, the definition of a graph (with positions of its vertices to obtain a better picture) and a list of integers (associated to the vertices of $\\Gamma$), whose role which be explained soon.\n",
    "\n",
    "The variable `rv` keeps the number of vertices of $\\Gamma$."
   ]
  },
  {
   "cell_type": "code",
   "execution_count": null,
   "metadata": {},
   "outputs": [],
   "source": [
    "from IPython.display import Markdown, display, Latex\n",
    "rv=7\n",
    "g=Graph(rv)\n",
    "L=4*[1]+3*[2]\n",
    "g.add_edges([(i,i+1,None) for i in range(3)])\n",
    "g.add_edges([(3,0,None)])\n",
    "g.add_edges([(i,i+1,None) for i in (4,5)])\n",
    "g.add_edges([(6,4,None)])\n",
    "g.add_edges([(i,j,None) for i,j in [(0,4),(1,4),(1,5),(2,5),(2,6),(3,6),(3,4)]])\n",
    "posicion={0:(-2,-2),1:(2,-2),2:(2,2),3:(-2,2),4:(-1,-1),5:(1,-1),6:(0,1)}\n",
    "g.set_pos(posicion)\n",
    "g"
   ]
  },
  {
   "cell_type": "markdown",
   "metadata": {},
   "source": [
    "Given the simplicial graph $\\Gamma$ (with set of vertices $V$), we construct the right-angled Artin group $G_\\Gamma$, having as generators the vertices and as relations the commutators of vertices connected by an edge. We fix a character $\\chi:G_\\Gamma\\to\\mathbb{Z}$; the integers $\\chi(v)$ are encoded in the above list `L`. The character is *non-resonant*, i.e., $\\chi(v)\\neq 0, \\forall v\\in V$, and in fact witout loss of generality we always take them positive. Let $A^\\chi:=\\ker\\chi$.\n",
    "\n",
    "The homology $H_k(A^\\chi;\\KK)$ has a natural structure of $\\Lambda$-module, $\\Lambda:=\\KK[t^{\\pm 1}]$, and its computation is the main goal of the work. This homology is relate to flag or clique complex $\\cF$ of $\\Gamma$. We construct it for the example. To be cautious we set $\\mathcal{F}$ as `immutable`. In this example the picture of $\\Gamma$ allows to understand $\\cF$."
   ]
  },
  {
   "cell_type": "code",
   "execution_count": null,
   "metadata": {},
   "outputs": [],
   "source": [
    "F=g.clique_complex()\n",
    "n=F.dimension()\n",
    "F.set_immutable()\n",
    "show(F)\n",
    "n"
   ]
  },
  {
   "cell_type": "markdown",
   "metadata": {},
   "source": [
    "Since $\\Lambda$ is a euclidean domain, and the homology is a finitely generated $\\Lambda$-module. The torsion structure is very particular, see <a href=\"https://doi.org/10.1016/j.aim.2008.09.008\">Papadima and Suci</a>:\n",
    "$$\n",
    "H_{k+1}(A^\\chi;\\mathbb{K})\\cong\\Lambda^{r_k}\\oplus\\bigoplus_{d,j\\in\\NN}\\left(\\frac{\\Lambda}{\\langle\\Phi_d^j\\rangle}\\right)^{r_{k,j}(d)}.\n",
    "$$\n",
    "Moreover, the actual $d$'s are among the divisors of $\\chi(v)$, $v\\in V$, and $\\tilde{H}_k(\\cF;\\KK)\\cong\\KK^{r_k}$. \n",
    "\n",
    "In our work we find some further properties of the $r_{k,j}(d)$, which in some cases are enough to determine them, in particular for $k=0,1$.\n",
    "\n",
    "Next cell computes the reduced homology of $\\cF$ for the example, which vanishes since $\\cF$ is contractible."
   ]
  },
  {
   "cell_type": "code",
   "execution_count": null,
   "metadata": {},
   "outputs": [],
   "source": [
    "Fc=F.chain_complex(augmented=True)\n",
    "libre=Fc.betti()\n",
    "cadena=''\n",
    "for j in libre.keys():\n",
    "    cadena+='$r_{'+(j+1).str()+'}='+libre[j].str()+'$ '\n",
    "display(Latex(cadena))"
   ]
  },
  {
   "cell_type": "markdown",
   "metadata": {},
   "source": [
    "The values of $r_{k,j}(1)$ have been computed by Papadima and Suciu. If $\\partial$ is the differential of $\\cF$, then $r_{k,1}(1)=\\rk\\partial_{k+1}$ and $r_{k,j}(1)=0$ if $j>1$.\n",
    "The computation for the example is done."
   ]
  },
  {
   "cell_type": "code",
   "execution_count": null,
   "metadata": {},
   "outputs": [],
   "source": [
    "cadena=''\n",
    "for j in [0..n]:\n",
    "    a=Fc.differential(j).rank()\n",
    "    cadena+='$r_{'+(j-1).str()+',1}(1)='+str(a)+'$ '\n",
    "display(Latex(cadena))"
   ]
  },
  {
   "cell_type": "markdown",
   "metadata": {},
   "source": [
    "Let us compute the rest of the torsion. We have to deal with the values divisors $d$ of the values $\\chi(v)$. In our example, the only needed value is $d=2$. We define a weight $\\omega:V\\to\\{0,1\\}$, such that $\\omega(v)=0$ if and only if $d$ is not a divisor of $\\chi(v)$. This weight extends to the simplicial complex $\\cF$.\n",
    "\n",
    "\n",
    "The following cell computes a dictionnary `multis` which shows the multiplicity of any simplex in $\\cF$."
   ]
  },
  {
   "cell_type": "code",
   "execution_count": null,
   "metadata": {},
   "outputs": [],
   "source": [
    "d=2\n",
    "W=[]\n",
    "for a in L:\n",
    "    if a/d in ZZ:\n",
    "        W.append(1)\n",
    "    else:\n",
    "        W.append(0)\n",
    "multis={a:sum(W[i] for i in a) for j in [-1..F.dimension()] for a in F.cells()[j]}"
   ]
  },
  {
   "cell_type": "markdown",
   "metadata": {},
   "source": [
    "We denote The $k$-skeleton $\\mathcal{F}^k$ of $\\mathcal{F}$ is needed. The function `esqueletos` provides a dictionnary with all the skeletons of $\\mathcal{F}$. We keep in `F_esq` the skeletons of the example."
   ]
  },
  {
   "cell_type": "code",
   "execution_count": null,
   "metadata": {},
   "outputs": [],
   "source": [
    "def esqueletos(F0):\n",
    "    Fm=copy(F0)\n",
    "    n=Fm.dimension()\n",
    "    esq={n:F0}\n",
    "    while n>=0:\n",
    "        Fm.remove_faces([list(_) for _ in Fm.cells()[n]])\n",
    "        Fi=copy(Fm)\n",
    "        Fi.set_immutable()\n",
    "        n=Fi.dimension()\n",
    "        esq[n]=Fi\n",
    "    return(esq)"
   ]
  },
  {
   "cell_type": "code",
   "execution_count": null,
   "metadata": {},
   "outputs": [],
   "source": [
    "F_esq=esqueletos(F)\n",
    "for j in [0..F.dimension()]:\n",
    "    print (F_esq[j])"
   ]
  },
  {
   "cell_type": "markdown",
   "metadata": {},
   "source": [
    "We need also the sub-complexes defined by the weights. For a couple $(k,j)$, we consider the subcomplex $\\mathcal{F}_j^k$ formed by the $(k-1)$-skeleton $\\mathcal{F}^{k-1}$ and the $k$-simplexes of weight $\\leq j$. The function `filtrados` provide a dictionnary with keys $(k,j)$. The dictionnary $U$ keeps the data of the example."
   ]
  },
  {
   "cell_type": "code",
   "execution_count": null,
   "metadata": {},
   "outputs": [],
   "source": [
    "def filtrados(F0,d):\n",
    "    esq=esqueletos(F0)\n",
    "    n=F0.dimension()\n",
    "    W=[]\n",
    "    for a in L:\n",
    "        if a/d in ZZ:\n",
    "            W.append(1)\n",
    "        else:\n",
    "            W.append(0)\n",
    "    esqu_f={}\n",
    "    while n>=0:\n",
    "        Fm=copy(esq[n])\n",
    "        for j in [n,n-1,..,0]:\n",
    "            mlt={a:sum(W[i] for i in a) for a in Fm.cells()[n]}\n",
    "            A=[list(_) for _ in Fm.cells()[n] if mlt[_]==j+1]\n",
    "            #print(A)\n",
    "            Fm.remove_faces(A)\n",
    "            #print(Fm.dimension())\n",
    "            #print(Fm)\n",
    "            #print(Fm.cells()[n])\n",
    "            Fi=copy(Fm)\n",
    "            Fi.set_immutable()\n",
    "            esqu_f[n,j]=Fi\n",
    "        n=n-1\n",
    "    return (esqu_f)"
   ]
  },
  {
   "cell_type": "code",
   "execution_count": null,
   "metadata": {},
   "outputs": [],
   "source": [
    "U=filtrados(F,d)"
   ]
  },
  {
   "cell_type": "markdown",
   "metadata": {},
   "source": [
    "In order to keep formulas simple we compute properties only when $k\\leq m$ and $\\cF$ is $m$-connected (in fact, we need the $\\KK$-homology to vanish when $k\\leq m$.\n",
    "\n",
    "One of our results is the following one:\n",
    "$$\n",
    "m_k=\\sum_{j=1}^{n} j r_{k,j}(d)=\n",
    "\\sum_{j=0}^{k+1}\\dim \\tilde{H}_k(\\mathcal{F}_j^{k+1};\\KK)+\n",
    "\\sum_{j=0}^{k}\\dim \\tilde{H}_k(\\mathcal{F}_j^{k};\\KK)\n",
    "-(k+1)\\dim \\tilde{H}_k(\\mathcal{F}^{k};\\KK).\n",
    "$$\n",
    "Let us compute the reduced homology of the filtered subcomplexes. The value of `homologias(i,j,h)` is $\\dim_\\KK\\tilde{H}_h(\\cF_j^i;\\KK)$. The dictionnary `m` keeps the values $m_k$."
   ]
  },
  {
   "cell_type": "code",
   "execution_count": null,
   "metadata": {},
   "outputs": [],
   "source": [
    "def homologias(i,j,h):\n",
    "    if (i,j) not in U.keys() and j-i!=1:\n",
    "        return(0)\n",
    "    elif j-i==1:\n",
    "        CS=F_esq[i]\n",
    "    else:\n",
    "        CS=U[i,j]\n",
    "    C=CS.chain_complex(augmented=True)\n",
    "    if h>CS.dimension():\n",
    "        return(0)\n",
    "    else:\n",
    "        return C.betti()[h]"
   ]
  },
  {
   "cell_type": "code",
   "execution_count": null,
   "metadata": {},
   "outputs": [],
   "source": [
    "m={}\n",
    "for k in [0..F.dimension()]:\n",
    "    a=sum([homologias(k+1,j,k) for j in [0..k+1]])\n",
    "    a+=sum([homologias(k,j,k) for j in [0..k]])-(k+1)*homologias(k,k+1,k)\n",
    "    m[k]=a"
   ]
  },
  {
   "cell_type": "code",
   "execution_count": null,
   "metadata": {},
   "outputs": [],
   "source": [
    "for k in [0..F.dimension()]:\n",
    "    cadena='$m_{'+(k).str()+'}='+m[k].str()+'$ '\n",
    "    display(Latex(cadena))"
   ]
  },
  {
   "cell_type": "markdown",
   "metadata": {},
   "source": [
    "We have also proved that if $h>k+2$ the $r_{k,h}(d)=0$. Under the $m$-connected hypothesis, the following holds: \n",
    "$$\n",
    "r_{k,k+2}(d)=\\rk\\left(\\tilde{H}_k(\\cF_0^k;\\KK)\\to\\tilde{H}_{k+1}(\\mathcal{F}_{k+1}^{k+1};\\KK)\\right).\n",
    "$$\n",
    "The way to compute these values is rather technical. We will keep them in the dictionnary `rk2`. \n",
    "\n",
    "We start with $k=0$. We need to define the inclusion morphism `H0` from $\\cF_{0}^{0}$ (the set of vertices of weight $0$, in the list `V0`) into $\\cF_1^1$.  We compute the rank of the induced morphism in homology. Since we need to deal with reduced homology, we need to substract $1$. The result shows that in the example there is no factor $\\Lambda/\\langle(t+1)^2\\rangle$ in $H_1(A^\\chi;\\KK)$."
   ]
  },
  {
   "cell_type": "code",
   "execution_count": null,
   "metadata": {},
   "outputs": [],
   "source": [
    "V0=[j for j in range(rv) if W[j]==0]"
   ]
  },
  {
   "cell_type": "code",
   "execution_count": null,
   "metadata": {},
   "outputs": [],
   "source": [
    "dic0={j:j for j in [0..len(U[0,0].cells()[0])-1]}\n",
    "Hom0=U[0,0].Hom(U[1,1])\n",
    "H0=Hom0(dic0)\n",
    "H0"
   ]
  },
  {
   "cell_type": "code",
   "execution_count": null,
   "metadata": {},
   "outputs": [],
   "source": [
    "rk2={}\n",
    "rk2[0]=H0.induced_homology_morphism().to_matrix(0).rank()-1\n",
    "rk2"
   ]
  },
  {
   "cell_type": "markdown",
   "metadata": {},
   "source": [
    "With the same ideas we compute the next values."
   ]
  },
  {
   "cell_type": "code",
   "execution_count": null,
   "metadata": {},
   "outputs": [],
   "source": [
    "for k in [1..F.dimension()-1]:\n",
    "    dic={j:j for j in [0..len(g.vertices())-1]}\n",
    "    Homk=U[k,0].Hom(U[k+1,k+1])\n",
    "    H0=Homk(dic)\n",
    "    rk2[k]=H0.induced_homology_morphism().to_matrix(k).rank()"
   ]
  },
  {
   "cell_type": "code",
   "execution_count": null,
   "metadata": {},
   "outputs": [],
   "source": [
    "rk2"
   ]
  },
  {
   "cell_type": "markdown",
   "metadata": {},
   "source": [
    "As a consequence $H_2(A^\\chi;\\KK)$ has a factor $\\Lambda/\\langle(t+1)^3\\rangle$ which turns out to be the whole $H_2(A^\\chi;\\KK)$.\n",
    "\n",
    "Next formula is $r_{k,1}(d)=\\dim_\\KK H_{k+1}^-(\\mathbb{T}^{\\rho_2(d)};\\KK)-\\dim_\\KK H_{k}^-(\\mathbb{T}^{\\rho_2(d)};\\KK)$.\n",
    "\n",
    "Let us explain the notation. The character $\\rho_2(d):G_\\Gamma\\to\\ZZ/2$ is defined via the weight: $\\rho_2(d)(v):=1-\\omega(v)$. The space $\\mathbb{T}^{\\rho_2(d)}$ is the double cover of an Eilenberg-McLane space for $G_\\Gamma$ defined by $\\rho_2(d)$. The superindex $-$ means anti-invariant homology. There is a simple way to obtain the complex defining $H_{k}^-(\\mathbb{T}^{\\rho_2(d)};\\KK)$."
   ]
  },
  {
   "cell_type": "code",
   "execution_count": null,
   "metadata": {},
   "outputs": [],
   "source": [
    "def diferencialesm(F,W):\n",
    "    cfg=F.chain_complex(augmented=True)\n",
    "    n=F.dimension()\n",
    "    bs=[F._n_cells_sorted(j) for j in [0..n+1]]\n",
    "    difs=[cfg.differential(j) for j in range(n+1)]\n",
    "    difst={}\n",
    "    for u in range(n+1):\n",
    "        A=difs[u].change_ring(QQ)\n",
    "        C=bs[u]\n",
    "        if u==0:\n",
    "            D=[()]\n",
    "        else:\n",
    "            D=bs[u-1]\n",
    "        for a in C:\n",
    "            j=C.index(a)\n",
    "            for b in D:\n",
    "                i=D.index(b)\n",
    "                c=[k for k in a if k not in b]\n",
    "                if len(c)==1:\n",
    "                    if W[c[0]]==0:\n",
    "                        A[i,j]=-2*A[i,j]\n",
    "                    else:\n",
    "                        A[i,j]=0\n",
    "        difst[u]=A\n",
    "    return difst"
   ]
  },
  {
   "cell_type": "code",
   "execution_count": null,
   "metadata": {},
   "outputs": [],
   "source": [
    "dQtm=diferencialesm(F,W)\n",
    "Cm=ChainComplex({a:dQtm[a].transpose() for a in dQtm.keys()})\n",
    "Cm.betti()"
   ]
  },
  {
   "cell_type": "markdown",
   "metadata": {},
   "source": [
    "Finally, we can check the above results constructing a $\\Lambda$-complex whose homology is $H_*(A^\\chi;\\KK)$. For computational reasons we work in $\\KK[t]$. In order to find the torsion part of the homology, it is enough to find the Smith form of the differential matrices. "
   ]
  },
  {
   "cell_type": "code",
   "execution_count": null,
   "metadata": {},
   "outputs": [],
   "source": [
    "R.<t>=QQ[]\n",
    "def diferencialesQt(F,L):\n",
    "    cfg=F.chain_complex(augmented=True)\n",
    "    n=F.dimension()\n",
    "    bs=[F._n_cells_sorted(j) for j in [0..n+1]]\n",
    "    difs=[cfg.differential(j) for j in range(n+1)]\n",
    "    difst={}\n",
    "    for u in range(n+1):\n",
    "        A=difs[u].change_ring(R)\n",
    "        C=bs[u]\n",
    "        if u==0:\n",
    "            D=[()]\n",
    "        else:\n",
    "            D=bs[u-1]\n",
    "        for a in C:\n",
    "            j=C.index(a)\n",
    "            for b in D:\n",
    "                i=D.index(b)\n",
    "                c=[k for k in a if k not in b]\n",
    "                if len(c)==1:\n",
    "                    A[i,j]=(t^L[c[0]]-1)*A[i,j]\n",
    "        difst[u]=A\n",
    "    return difst"
   ]
  },
  {
   "cell_type": "code",
   "execution_count": null,
   "metadata": {},
   "outputs": [],
   "source": [
    "dQt=diferencialesQt(F,L)\n",
    "sm={}\n",
    "for j in [0..F.dimension()]:\n",
    "    A=dQt[j]\n",
    "    B=A.smith_form()[0]\n",
    "    C=[_.factor() for _ in B.diagonal() if _!=0]\n",
    "    sm[j]=C\n",
    "for j in sm.keys():\n",
    "    show(sm[j])"
   ]
  },
  {
   "cell_type": "code",
   "execution_count": null,
   "metadata": {},
   "outputs": [],
   "source": []
  }
 ],
 "metadata": {
  "kernelspec": {
   "display_name": "SageMath 9.1.rc1",
   "language": "sage",
   "name": "sagemath"
  },
  "language_info": {
   "codemirror_mode": {
    "name": "ipython",
    "version": 3
   },
   "file_extension": ".py",
   "mimetype": "text/x-python",
   "name": "python",
   "nbconvert_exporter": "python",
   "pygments_lexer": "ipython3",
   "version": "3.7.3"
  },
  "widgets": {
   "application/vnd.jupyter.widget-state+json": {
    "state": {},
    "version_major": 2,
    "version_minor": 0
   }
  }
 },
 "nbformat": 4,
 "nbformat_minor": 4
}
