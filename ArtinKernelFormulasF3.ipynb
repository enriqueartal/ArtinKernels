{
 "cells": [
  {
   "cell_type": "markdown",
   "metadata": {},
   "source": [
    "$$\n",
    "\\newcommand{\\KK}{\\mathbb{K}}\n",
    "\\newcommand{\\NN}{\\mathbb{N}}\n",
    "\\newcommand{\\ZZ}{\\mathbb{Z}}\n",
    "\\newcommand{\\cF}{\\mathcal{F}}\n",
    "\\DeclareMathOperator{\\rk}{Rank}\n",
    "$$\n",
    "\n",
    "The notebook `ArtinKernelFormulas` provide the general ones, applied to an example, in the work *Module structure of the homology of right-angled Artin kernels*, with J.I. Cogolludo, S. López de Medrano, and D. Matei).\n",
    "\n",
    "In this `Jupyter` notebook we study a graph $\\Gamma$ such that its flag complex is $\\mathbb{Q}$-acyclic but not $\\mathbb{F}_3$-acyclic. We search for special properties in this case.\n",
    "\n",
    "For the right-angled Artin group $A_\\Gamma$ we fix a character $\\chi:G_\\Gamma\\to\\mathbb{Z}$; the integers $\\chi(v)$ are encoded in the a list `L` which can be changed and we restrict to the case where the set of images of the vertices is $\\{1,2\\}$. Let $A^\\chi:=\\ker\\chi$.\n",
    "\n",
    "The homology $H_k(A^\\chi;\\KK)$ has a natural structure of $\\Lambda$-module, $\\Lambda:=\\KK[t^{\\pm 1}]$. This homology is related to the flag or clique complex $\\cF$ of $\\Gamma$. To be cautious we set $\\mathcal{F}$ as `immutable`. In this example the picture of $\\Gamma$ allows to understand $\\cF$. We show the reduced homology of $\\cF$ with integer coefficients."
   ]
  },
  {
   "cell_type": "code",
   "execution_count": 116,
   "metadata": {},
   "outputs": [
    {
     "data": {
      "text/plain": [
       "{0: 0, 1: C3, 2: 0}"
      ]
     },
     "execution_count": 116,
     "metadata": {},
     "output_type": "execute_result"
    }
   ],
   "source": [
    "from IPython.display import Markdown, display, Latex\n",
    "rv=14\n",
    "A=Matrix(rv)\n",
    "for i in [0..3]:\n",
    "    A[i,(i+1)%4]=1\n",
    "for i in [0..8]:\n",
    "    A[i+4,(i+1)%9+4]=1\n",
    "    A[i+4,13]=1\n",
    "for i in [4,7,10]:\n",
    "    A[0,i]=1\n",
    "for B in [[4..7],[7..10],[10..12]+[4]]:\n",
    "    C=[B[0],1,B[1],2,B[2],3,B[3]]\n",
    "    for i in [0..5]:\n",
    "        A[C[i],C[i+1]]=1\n",
    "A=A+A.transpose()\n",
    "g=Graph(A)\n",
    "F=g.clique_complex()\n",
    "n=F.dimension()\n",
    "F.set_immutable()\n",
    "F.homology()"
   ]
  },
  {
   "cell_type": "markdown",
   "metadata": {},
   "source": [
    "We give a description of the homology as $\\Lambda$-module when $\\cF$ is $k$-acyclic. In this example, $\\cF$ is acyclic for $\\mathbb{K}=\\mathbb{C}$ but it is only $0$-acyclic for $\\mathbb{K}=\\mathbb{F}_3$. We study the cohomology for some even characters and try to check the differences for $k=1$ for these fields.\n",
    "For $k=1$ and $\\mathbb{K}=\\mathbb{C}$ we have:\n",
    "$$\n",
    "H_{2}(A^\\chi;\\mathbb{K})\\cong\\left(\\frac{\\Lambda}{\\langle t-1\\rangle}\\right)^{\\rk\\partial_{2}}\\oplus\\bigoplus_{j=1}^3\\left(\\frac{\\Lambda}{\\langle(t+1)^j\\rangle}\\right)^{r_{1,j}}.\n",
    "$$\n",
    "We recompute the reduced homology with rational coefficients which is independent of the character and $\\rk\\partial_2$."
   ]
  },
  {
   "cell_type": "code",
   "execution_count": 117,
   "metadata": {},
   "outputs": [
    {
     "data": {
      "text/latex": [
       "$r_{0}=0$ $r_{1}=0$ $r_{2}=0$ $r_{3}=0$ "
      ],
      "text/plain": [
       "<IPython.core.display.Latex object>"
      ]
     },
     "metadata": {},
     "output_type": "display_data"
    },
    {
     "data": {
      "text/html": [
       "<html><script type=\"math/tex; mode=display\">\\newcommand{\\Bold}[1]{\\mathbf{#1}}30</script></html>"
      ],
      "text/latex": [
       "\\begin{math}\n",
       "\\newcommand{\\Bold}[1]{\\mathbf{#1}}30\n",
       "\\end{math}"
      ],
      "text/plain": [
       "30"
      ]
     },
     "metadata": {},
     "output_type": "display_data"
    }
   ],
   "source": [
    "Fc=F.chain_complex(augmented=True)\n",
    "libre=Fc.betti()\n",
    "cadena=''\n",
    "for j in libre.keys():\n",
    "    cadena+='$r_{'+(j+1).str()+'}='+libre[j].str()+'$ '\n",
    "display(Latex(cadena))\n",
    "show(Fc.differential(2).rank())"
   ]
  },
  {
   "cell_type": "code",
   "execution_count": null,
   "metadata": {},
   "outputs": [],
   "source": []
  },
  {
   "cell_type": "markdown",
   "metadata": {},
   "source": [
    "Hence for any such character we have:\n",
    "$$\n",
    "H_{2}(A^\\chi;\\mathbb{K})\\cong\\left(\\frac{\\Lambda}{\\langle t-1\\rangle}\\right)^{30}\\oplus\\bigoplus_{j=1}^3\\left(\\frac{\\Lambda}{\\langle(t+1)^j\\rangle}\\right)^{r_{1,j}}.\n",
    "$$\n",
    "The variable `L` determines the character.\n",
    "\n",
    "Let us compute the $(t+1)$-primary part of the torsion. We define a weight $\\omega:V\\to\\{0,1\\}$, such that $\\omega(v)=0$ if and only $\\chi(v)=1$ and $\\omega(v)=1$ if and only if $\\chi(v)=2$. This weight extends additively to the simplicial complex $\\cF$.\n",
    "\n",
    "\n",
    "The following cell computes a dictionnary `multis` which shows the multiplicity of any simplex in $\\cF$."
   ]
  },
  {
   "cell_type": "code",
   "execution_count": 118,
   "metadata": {},
   "outputs": [],
   "source": [
    "L=4*[1]+9*[2]+1*[1]\n",
    "d=2\n",
    "W=[]\n",
    "for a in L:\n",
    "    if a/d in ZZ:\n",
    "        W.append(1)\n",
    "    else:\n",
    "        W.append(0)\n",
    "multis={a:sum(W[i] for i in a) for j in [-1..F.dimension()] for a in F.cells()[j]}"
   ]
  },
  {
   "cell_type": "markdown",
   "metadata": {},
   "source": [
    "The $k$-skeleton $\\mathcal{F}^k$ of $\\mathcal{F}$ is needed. The function `esqueletos` provides a dictionnary with all the skeletons of $\\mathcal{F}$. We keep in `F_esq` the skeletons of the example."
   ]
  },
  {
   "cell_type": "code",
   "execution_count": 119,
   "metadata": {},
   "outputs": [],
   "source": [
    "def esqueletos(F0):\n",
    "    Fm=copy(F0)\n",
    "    n=Fm.dimension()\n",
    "    esq={n:F0}\n",
    "    while n>=0:\n",
    "        Fm.remove_faces([list(_) for _ in Fm.cells()[n]])\n",
    "        Fi=copy(Fm)\n",
    "        Fi.set_immutable()\n",
    "        n=Fi.dimension()\n",
    "        esq[n]=Fi\n",
    "    return(esq)"
   ]
  },
  {
   "cell_type": "code",
   "execution_count": 120,
   "metadata": {},
   "outputs": [
    {
     "name": "stdout",
     "output_type": "stream",
     "text": [
      "Simplicial complex with 14 vertices and 14 facets\n",
      "Simplicial complex with 14 vertices and 43 facets\n",
      "Simplicial complex with 14 vertices and 30 facets\n"
     ]
    }
   ],
   "source": [
    "F_esq=esqueletos(F)\n",
    "for j in [0..F.dimension()]:\n",
    "    print (F_esq[j])"
   ]
  },
  {
   "cell_type": "markdown",
   "metadata": {},
   "source": [
    "We need also the sub-complexes defined by the weights. For a couple $(k,j)$, we consider the subcomplex $\\mathcal{F}_j^k$ formed by the $(k-1)$-skeleton $\\mathcal{F}^{k-1}$ and the $k$-simplexes of weight $\\leq j$. The function `filtrados` provide a dictionnary with keys $(k,j)$. The dictionnary $U$ keeps the data of the example."
   ]
  },
  {
   "cell_type": "code",
   "execution_count": 121,
   "metadata": {},
   "outputs": [],
   "source": [
    "def filtrados(F0,d):\n",
    "    esq=esqueletos(F0)\n",
    "    n=F0.dimension()\n",
    "    W=[]\n",
    "    for a in L:\n",
    "        if a/d in ZZ:\n",
    "            W.append(1)\n",
    "        else:\n",
    "            W.append(0)\n",
    "    esqu_f={}\n",
    "    while n>=0:\n",
    "        Fm=copy(esq[n])\n",
    "        for j in [n,n-1,..,0]:\n",
    "            mlt={a:sum(W[i] for i in a) for a in Fm.cells()[n]}\n",
    "            A=[list(_) for _ in Fm.cells()[n] if mlt[_]==j+1]\n",
    "            #print(A)\n",
    "            Fm.remove_faces(A)\n",
    "            #print(Fm.dimension())\n",
    "            #print(Fm)\n",
    "            #print(Fm.cells()[n])\n",
    "            Fi=copy(Fm)\n",
    "            Fi.set_immutable()\n",
    "            esqu_f[n,j]=Fi\n",
    "        n=n-1\n",
    "    return (esqu_f)"
   ]
  },
  {
   "cell_type": "code",
   "execution_count": 122,
   "metadata": {},
   "outputs": [
    {
     "data": {
      "text/html": [
       "<html><script type=\"math/tex; mode=display\">\\newcommand{\\Bold}[1]{\\mathbf{#1}}\\verb|i=| 2 \\phantom{\\verb!x!}\\verb|j=| 2 \\verb|--| \\verb|Simplicial|\\phantom{\\verb!x!}\\verb|complex|\\phantom{\\verb!x!}\\verb|with|\\phantom{\\verb!x!}\\verb|14|\\phantom{\\verb!x!}\\verb|vertices|\\phantom{\\verb!x!}\\verb|and|\\phantom{\\verb!x!}\\verb|30|\\phantom{\\verb!x!}\\verb|facets|</script></html>"
      ],
      "text/latex": [
       "\\begin{math}\n",
       "\\newcommand{\\Bold}[1]{\\mathbf{#1}}\\verb|i=| 2 \\phantom{\\verb!x!}\\verb|j=| 2 \\verb|--| \\verb|Simplicial|\\phantom{\\verb!x!}\\verb|complex|\\phantom{\\verb!x!}\\verb|with|\\phantom{\\verb!x!}\\verb|14|\\phantom{\\verb!x!}\\verb|vertices|\\phantom{\\verb!x!}\\verb|and|\\phantom{\\verb!x!}\\verb|30|\\phantom{\\verb!x!}\\verb|facets|\n",
       "\\end{math}"
      ],
      "text/plain": [
       "'i=' 2 ' j=' 2 '--' Simplicial complex with 14 vertices and 30 facets"
      ]
     },
     "metadata": {},
     "output_type": "display_data"
    },
    {
     "data": {
      "text/html": [
       "<html><script type=\"math/tex; mode=display\">\\newcommand{\\Bold}[1]{\\mathbf{#1}}\\verb|i=| 2 \\phantom{\\verb!x!}\\verb|j=| 1 \\verb|--| \\verb|Simplicial|\\phantom{\\verb!x!}\\verb|complex|\\phantom{\\verb!x!}\\verb|with|\\phantom{\\verb!x!}\\verb|14|\\phantom{\\verb!x!}\\verb|vertices|\\phantom{\\verb!x!}\\verb|and|\\phantom{\\verb!x!}\\verb|30|\\phantom{\\verb!x!}\\verb|facets|</script></html>"
      ],
      "text/latex": [
       "\\begin{math}\n",
       "\\newcommand{\\Bold}[1]{\\mathbf{#1}}\\verb|i=| 2 \\phantom{\\verb!x!}\\verb|j=| 1 \\verb|--| \\verb|Simplicial|\\phantom{\\verb!x!}\\verb|complex|\\phantom{\\verb!x!}\\verb|with|\\phantom{\\verb!x!}\\verb|14|\\phantom{\\verb!x!}\\verb|vertices|\\phantom{\\verb!x!}\\verb|and|\\phantom{\\verb!x!}\\verb|30|\\phantom{\\verb!x!}\\verb|facets|\n",
       "\\end{math}"
      ],
      "text/plain": [
       "'i=' 2 ' j=' 1 '--' Simplicial complex with 14 vertices and 30 facets"
      ]
     },
     "metadata": {},
     "output_type": "display_data"
    },
    {
     "data": {
      "text/html": [
       "<html><script type=\"math/tex; mode=display\">\\newcommand{\\Bold}[1]{\\mathbf{#1}}\\verb|i=| 2 \\phantom{\\verb!x!}\\verb|j=| 0 \\verb|--| \\verb|Simplicial|\\phantom{\\verb!x!}\\verb|complex|\\phantom{\\verb!x!}\\verb|with|\\phantom{\\verb!x!}\\verb|14|\\phantom{\\verb!x!}\\verb|vertices|\\phantom{\\verb!x!}\\verb|and|\\phantom{\\verb!x!}\\verb|43|\\phantom{\\verb!x!}\\verb|facets|</script></html>"
      ],
      "text/latex": [
       "\\begin{math}\n",
       "\\newcommand{\\Bold}[1]{\\mathbf{#1}}\\verb|i=| 2 \\phantom{\\verb!x!}\\verb|j=| 0 \\verb|--| \\verb|Simplicial|\\phantom{\\verb!x!}\\verb|complex|\\phantom{\\verb!x!}\\verb|with|\\phantom{\\verb!x!}\\verb|14|\\phantom{\\verb!x!}\\verb|vertices|\\phantom{\\verb!x!}\\verb|and|\\phantom{\\verb!x!}\\verb|43|\\phantom{\\verb!x!}\\verb|facets|\n",
       "\\end{math}"
      ],
      "text/plain": [
       "'i=' 2 ' j=' 0 '--' Simplicial complex with 14 vertices and 43 facets"
      ]
     },
     "metadata": {},
     "output_type": "display_data"
    },
    {
     "data": {
      "text/html": [
       "<html><script type=\"math/tex; mode=display\">\\newcommand{\\Bold}[1]{\\mathbf{#1}}\\verb|i=| 1 \\phantom{\\verb!x!}\\verb|j=| 1 \\verb|--| \\verb|Simplicial|\\phantom{\\verb!x!}\\verb|complex|\\phantom{\\verb!x!}\\verb|with|\\phantom{\\verb!x!}\\verb|14|\\phantom{\\verb!x!}\\verb|vertices|\\phantom{\\verb!x!}\\verb|and|\\phantom{\\verb!x!}\\verb|34|\\phantom{\\verb!x!}\\verb|facets|</script></html>"
      ],
      "text/latex": [
       "\\begin{math}\n",
       "\\newcommand{\\Bold}[1]{\\mathbf{#1}}\\verb|i=| 1 \\phantom{\\verb!x!}\\verb|j=| 1 \\verb|--| \\verb|Simplicial|\\phantom{\\verb!x!}\\verb|complex|\\phantom{\\verb!x!}\\verb|with|\\phantom{\\verb!x!}\\verb|14|\\phantom{\\verb!x!}\\verb|vertices|\\phantom{\\verb!x!}\\verb|and|\\phantom{\\verb!x!}\\verb|34|\\phantom{\\verb!x!}\\verb|facets|\n",
       "\\end{math}"
      ],
      "text/plain": [
       "'i=' 1 ' j=' 1 '--' Simplicial complex with 14 vertices and 34 facets"
      ]
     },
     "metadata": {},
     "output_type": "display_data"
    },
    {
     "data": {
      "text/html": [
       "<html><script type=\"math/tex; mode=display\">\\newcommand{\\Bold}[1]{\\mathbf{#1}}\\verb|i=| 1 \\phantom{\\verb!x!}\\verb|j=| 0 \\verb|--| \\verb|Simplicial|\\phantom{\\verb!x!}\\verb|complex|\\phantom{\\verb!x!}\\verb|with|\\phantom{\\verb!x!}\\verb|14|\\phantom{\\verb!x!}\\verb|vertices|\\phantom{\\verb!x!}\\verb|and|\\phantom{\\verb!x!}\\verb|14|\\phantom{\\verb!x!}\\verb|facets|</script></html>"
      ],
      "text/latex": [
       "\\begin{math}\n",
       "\\newcommand{\\Bold}[1]{\\mathbf{#1}}\\verb|i=| 1 \\phantom{\\verb!x!}\\verb|j=| 0 \\verb|--| \\verb|Simplicial|\\phantom{\\verb!x!}\\verb|complex|\\phantom{\\verb!x!}\\verb|with|\\phantom{\\verb!x!}\\verb|14|\\phantom{\\verb!x!}\\verb|vertices|\\phantom{\\verb!x!}\\verb|and|\\phantom{\\verb!x!}\\verb|14|\\phantom{\\verb!x!}\\verb|facets|\n",
       "\\end{math}"
      ],
      "text/plain": [
       "'i=' 1 ' j=' 0 '--' Simplicial complex with 14 vertices and 14 facets"
      ]
     },
     "metadata": {},
     "output_type": "display_data"
    },
    {
     "data": {
      "text/html": [
       "<html><script type=\"math/tex; mode=display\">\\newcommand{\\Bold}[1]{\\mathbf{#1}}\\verb|i=| 0 \\phantom{\\verb!x!}\\verb|j=| 0 \\verb|--| \\verb|Simplicial|\\phantom{\\verb!x!}\\verb|complex|\\phantom{\\verb!x!}\\verb|with|\\phantom{\\verb!x!}\\verb|vertex|\\phantom{\\verb!x!}\\verb|set|\\phantom{\\verb!x!}\\verb|(0,|\\phantom{\\verb!x!}\\verb|1,|\\phantom{\\verb!x!}\\verb|2,|\\phantom{\\verb!x!}\\verb|3,|\\phantom{\\verb!x!}\\verb|13)|\\phantom{\\verb!x!}\\verb|and|\\phantom{\\verb!x!}\\verb|facets|\\phantom{\\verb!x!}\\verb|{(0,),|\\phantom{\\verb!x!}\\verb|(1,),|\\phantom{\\verb!x!}\\verb|(2,),|\\phantom{\\verb!x!}\\verb|(3,),|\\phantom{\\verb!x!}\\verb|(13,)}|</script></html>"
      ],
      "text/latex": [
       "\\begin{math}\n",
       "\\newcommand{\\Bold}[1]{\\mathbf{#1}}\\verb|i=| 0 \\phantom{\\verb!x!}\\verb|j=| 0 \\verb|--| \\verb|Simplicial|\\phantom{\\verb!x!}\\verb|complex|\\phantom{\\verb!x!}\\verb|with|\\phantom{\\verb!x!}\\verb|vertex|\\phantom{\\verb!x!}\\verb|set|\\phantom{\\verb!x!}\\verb|(0,|\\phantom{\\verb!x!}\\verb|1,|\\phantom{\\verb!x!}\\verb|2,|\\phantom{\\verb!x!}\\verb|3,|\\phantom{\\verb!x!}\\verb|13)|\\phantom{\\verb!x!}\\verb|and|\\phantom{\\verb!x!}\\verb|facets|\\phantom{\\verb!x!}\\verb|{(0,),|\\phantom{\\verb!x!}\\verb|(1,),|\\phantom{\\verb!x!}\\verb|(2,),|\\phantom{\\verb!x!}\\verb|(3,),|\\phantom{\\verb!x!}\\verb|(13,)}|\n",
       "\\end{math}"
      ],
      "text/plain": [
       "'i=' 0 ' j=' 0 '--' Simplicial complex with vertex set (0, 1, 2, 3, 13) and facets {(0,), (1,), (2,), (3,), (13,)}"
      ]
     },
     "metadata": {},
     "output_type": "display_data"
    }
   ],
   "source": [
    "U=filtrados(F,d)\n",
    "for i,j in U.keys():\n",
    "    show('i=',i,' j=',j,'--',U[i,j])"
   ]
  },
  {
   "cell_type": "markdown",
   "metadata": {},
   "source": [
    "The dimension of the $(t+1)$-primary part is $m_1$:\n",
    "$$\n",
    "m_1=\\sum_{j=1}^{3} j r_{1,j}=\n",
    "\\sum_{j=0}^{2}\\dim \\tilde{H}_1(\\mathcal{F}_j^{2};\\KK)+\n",
    "\\sum_{j=0}^{1}\\dim \\tilde{H}_1(\\mathcal{F}_j^{1};\\KK)\n",
    "-2\\dim \\tilde{H}_1(\\mathcal{F}^{1};\\KK).\n",
    "$$\n",
    "\n",
    "Let us compute the reduced homology of the filtered subcomplexes. The value of `homologias(i,j,h)` is $\\dim_\\KK\\tilde{H}_h(\\cF_j^i;\\KK)$. The dictionnary `m` keeps the values $m_k$, we are interested in $m_1$."
   ]
  },
  {
   "cell_type": "code",
   "execution_count": 123,
   "metadata": {},
   "outputs": [],
   "source": [
    "def homologias(i,j,h):\n",
    "    if (i,j) not in U.keys() and j-i!=1:\n",
    "        return(0)\n",
    "    elif j-i==1:\n",
    "        CS=F_esq[i]\n",
    "    else:\n",
    "        CS=U[i,j]\n",
    "    C=CS.chain_complex(augmented=True)\n",
    "    if h>CS.dimension():\n",
    "        return(0)\n",
    "    else:\n",
    "        return C.betti()[h]"
   ]
  },
  {
   "cell_type": "code",
   "execution_count": 124,
   "metadata": {},
   "outputs": [
    {
     "data": {
      "text/html": [
       "<html><script type=\"math/tex; mode=display\">\\newcommand{\\Bold}[1]{\\mathbf{#1}}10</script></html>"
      ],
      "text/latex": [
       "\\begin{math}\n",
       "\\newcommand{\\Bold}[1]{\\mathbf{#1}}10\n",
       "\\end{math}"
      ],
      "text/plain": [
       "10"
      ]
     },
     "metadata": {},
     "output_type": "display_data"
    }
   ],
   "source": [
    "m={}\n",
    "for k in [0..F.dimension()]:\n",
    "    a=sum([homologias(k+1,j,k) for j in [0..k+1]])\n",
    "    a+=sum([homologias(k,j,k) for j in [0..k]])-(k+1)*homologias(k,k+1,k)\n",
    "    m[k]=a\n",
    "show(m[1])"
   ]
  },
  {
   "cell_type": "markdown",
   "metadata": {},
   "source": [
    "Then $r_{1,1}+r_{1,2}+r_{1,3}=10$. We have\n",
    "$$\n",
    "r_{1,3}=\\rk\\left(\\tilde{H}_1(\\cF_0^1;\\KK)\\to\\tilde{H}_{2}(\\mathcal{F}_{2}^{2};\\KK)\\right).\n",
    "$$\n",
    "\n",
    "We compute all the possible ranks:"
   ]
  },
  {
   "cell_type": "code",
   "execution_count": 125,
   "metadata": {},
   "outputs": [
    {
     "data": {
      "text/plain": [
       "{(1, 0): 1, (1, 1): 21, (2, 0): 1, (2, 1): 9, (3, 0): 0, (3, 1): 0}"
      ]
     },
     "execution_count": 125,
     "metadata": {},
     "output_type": "execute_result"
    }
   ],
   "source": [
    "rk={}\n",
    "for i in [1..3]:\n",
    "    for j in [0..i]:\n",
    "        if (1,j) in U.keys() and (2,i-1) in U.keys():\n",
    "            dic={h:h for h in U[1,j].vertices()}\n",
    "            Homk=U[1,j].Hom(U[2,i-1])\n",
    "            H0=Homk(dic)\n",
    "            rk[i,j]=H0.induced_homology_morphism().to_matrix(1).rank()\n",
    "rk"
   ]
  },
  {
   "cell_type": "markdown",
   "metadata": {},
   "source": [
    "These values imply that $r_{1,3}=0$ and $r_{1,2}=1$, yielding:\n",
    "$$\n",
    "H_{2}(A^\\chi;\\mathbb{K})\\cong\\left(\\frac{\\Lambda}{\\langle t-1\\rangle}\\right)^{30}\\oplus\\left(\\frac{\\Lambda}{\\langle t+1\\rangle}\\right)^{8}\\oplus\\left(\\frac{\\Lambda}{\\langle(t+1)^2\\rangle}\\right).\n",
    "$$\n",
    "Next formula is $9=r_{1,1}+r_{1,2}+r_{1,3}=\\dim_\\KK H_{2}^-(\\mathbb{T}^{\\chi};\\KK)-\\dim_\\KK H_{1}^-(\\mathbb{T}^{\\chi};\\KK)$. Let us check it after explaining\n",
    "the notation. The space $\\mathbb{T}^{\\chi}$ is the double cover of an Eilenberg-McLane space for $G_\\Gamma$ defined by $\\chi$. The superindex $-$ means anti-invariant homology. There is a simple way to obtain the complex defining $H_{k}^-(\\mathbb{T}^{\\rho_2(d)};\\KK)$."
   ]
  },
  {
   "cell_type": "code",
   "execution_count": 126,
   "metadata": {},
   "outputs": [],
   "source": [
    "def diferencialesm(F,W):\n",
    "    cfg=F.chain_complex(augmented=True)\n",
    "    n=F.dimension()\n",
    "    bs=[F._n_cells_sorted(j) for j in [0..n+1]]\n",
    "    difs=[cfg.differential(j) for j in range(n+1)]\n",
    "    difst={}\n",
    "    for u in range(n+1):\n",
    "        A=difs[u].change_ring(QQ)\n",
    "        C=bs[u]\n",
    "        if u==0:\n",
    "            D=[()]\n",
    "        else:\n",
    "            D=bs[u-1]\n",
    "        for a in C:\n",
    "            j=C.index(a)\n",
    "            for b in D:\n",
    "                i=D.index(b)\n",
    "                c=[k for k in a if k not in b]\n",
    "                if len(c)==1:\n",
    "                    if W[c[0]]==0:\n",
    "                        A[i,j]=-2*A[i,j]\n",
    "                    else:\n",
    "                        A[i,j]=0\n",
    "        difst[u]=A\n",
    "    return difst"
   ]
  },
  {
   "cell_type": "code",
   "execution_count": 127,
   "metadata": {},
   "outputs": [
    {
     "data": {
      "text/plain": [
       "{0: 0, 1: 1, 2: 10, 3: 9}"
      ]
     },
     "execution_count": 127,
     "metadata": {},
     "output_type": "execute_result"
    }
   ],
   "source": [
    "dQtm=diferencialesm(F,W)\n",
    "Cm=ChainComplex({a:dQtm[a].transpose() for a in dQtm.keys()})\n",
    "Cm.betti()"
   ]
  },
  {
   "cell_type": "markdown",
   "metadata": {},
   "source": [
    "Finally, we can check the above results constructing a $\\Lambda$-complex whose homology is $H_*(A^\\chi;\\KK)$. For computational reasons we work in $\\KK[t]$. In order to find the torsion part of the homology, it is enough to find the Smith form of the differential matrices. \n",
    "We define a function `homologia` whose ouptut is a list of 5 non-negative integers $\\ell_1,\\dots,\\ell_5$ such that\n",
    "$$\n",
    "H_{2}(A^\\chi;\\mathbb{K})\\cong\\Lambda^{\\ell_1}\\left(\\frac{\\Lambda}{\\langle t-1\\rangle}\\right)^{\\ell_2}\\oplus\\left(\\frac{\\Lambda}{\\langle t+1\\rangle}\\right)^{\\ell_3}\\oplus\\left(\\frac{\\Lambda}{\\langle(t+1)^2\\rangle}\\right)^{\\ell_4}\\oplus\\left(\\frac{\\Lambda}{\\langle(t+1)^3\\rangle}\\right)^{\\ell_5}.\n",
    "$$\n"
   ]
  },
  {
   "cell_type": "code",
   "execution_count": 176,
   "metadata": {},
   "outputs": [],
   "source": [
    "R.<t>=QQ[]\n",
    "def diferencialesQt(F,L,R):\n",
    "    cfg=F.chain_complex(augmented=True)\n",
    "    n=F.dimension()\n",
    "    bs=[F._n_cells_sorted(j) for j in [0..n+1]]\n",
    "    difs=[cfg.differential(j) for j in range(n+1)]\n",
    "    difst={}\n",
    "    for u in range(n+1):\n",
    "        A=difs[u].change_ring(R)\n",
    "        C=bs[u]\n",
    "        if u==0:\n",
    "            D=[()]\n",
    "        else:\n",
    "            D=bs[u-1]\n",
    "        for a in C:\n",
    "            j=C.index(a)\n",
    "            for b in D:\n",
    "                i=D.index(b)\n",
    "                c=[k for k in a if k not in b]\n",
    "                if len(c)==1:\n",
    "                    A[i,j]=(t^L[c[0]]-1)*A[i,j]\n",
    "        difst[u]=A\n",
    "    return difst\n",
    "def homologia(F,L,R):\n",
    "    sm={}\n",
    "    tl={}\n",
    "    tml1={}\n",
    "    tml2={}\n",
    "    tml3={}\n",
    "    dQt=diferencialesQt(F,L,R)\n",
    "    n=F.dimension()\n",
    "    dm=[len(F.n_cells(j)) for j in [-1..n]]\n",
    "    for j in [0..n]:\n",
    "        A=dQt[j]\n",
    "        B=A.smith_form()[0]\n",
    "        C=[R.ideal(_).gen() for _ in B.diagonal() if _!=0]\n",
    "        #a1=len([_ for _ in C if _==1])\n",
    "        t1=len([_ for _ in C if _/(t-1) in R])\n",
    "        tm1=len([_ for _ in C if _/(t+1) in R])\n",
    "        tm2=len([_ for _ in C if _/(t+1)^2 in R])\n",
    "        tm3=len([_ for _ in C if _/(t+1)^3 in R])\n",
    "        sm[j]=C\n",
    "        tl[j]=t1\n",
    "        tml1[j]=tm1\n",
    "        tml2[j]=tm2\n",
    "        tml3[j]=tm3\n",
    "    libre= dm[2]-len(sm[1])-len(sm[2])\n",
    "    return (libre,tl[2],tml1[2]-tml2[2]-tml3[2],tml2[2]-tml3[2],tml3[2])"
   ]
  },
  {
   "cell_type": "code",
   "execution_count": 177,
   "metadata": {},
   "outputs": [
    {
     "data": {
      "text/plain": [
       "(0, 30, 8, 1, 0)"
      ]
     },
     "execution_count": 177,
     "metadata": {},
     "output_type": "execute_result"
    }
   ],
   "source": [
    "homologia(F,L,R)"
   ]
  },
  {
   "cell_type": "code",
   "execution_count": 178,
   "metadata": {},
   "outputs": [
    {
     "data": {
      "text/plain": [
       "(1, 29, 8, 0, 0)"
      ]
     },
     "execution_count": 178,
     "metadata": {},
     "output_type": "execute_result"
    }
   ],
   "source": [
    "R1.<t>=GF(3)[]\n",
    "homologia(F,L,R1)"
   ]
  },
  {
   "cell_type": "markdown",
   "metadata": {},
   "source": [
    "$$\n",
    "H_{2}(A^\\chi;\\mathbb{F}_3)\\cong\\Lambda\\oplus\\left(\\frac{\\Lambda}{\\langle t-1\\rangle}\\right)^{29}\\oplus\\left(\\frac{\\Lambda}{\\langle t+1\\rangle}\\right)^{8}.\n",
    "$$"
   ]
  },
  {
   "cell_type": "code",
   "execution_count": null,
   "metadata": {},
   "outputs": [],
   "source": []
  }
 ],
 "metadata": {
  "kernelspec": {
   "display_name": "SageMath 9.3.rc0",
   "language": "sage",
   "name": "sagemath"
  },
  "language_info": {
   "codemirror_mode": {
    "name": "ipython",
    "version": 3
   },
   "file_extension": ".py",
   "mimetype": "text/x-python",
   "name": "python",
   "nbconvert_exporter": "python",
   "pygments_lexer": "ipython3",
   "version": "3.9.2"
  },
  "widgets": {
   "application/vnd.jupyter.widget-state+json": {
    "state": {},
    "version_major": 2,
    "version_minor": 0
   }
  }
 },
 "nbformat": 4,
 "nbformat_minor": 4
}
